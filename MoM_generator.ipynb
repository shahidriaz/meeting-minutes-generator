{
 "cells": [
  {
   "cell_type": "code",
   "execution_count": 1,
   "id": "90e909e5",
   "metadata": {},
   "outputs": [],
   "source": [
    "import ollama"
   ]
  },
  {
   "cell_type": "markdown",
   "id": "306a02fd",
   "metadata": {},
   "source": [
    "#### Read Text from the input file. "
   ]
  },
  {
   "cell_type": "code",
   "execution_count": 3,
   "id": "611087ba",
   "metadata": {},
   "outputs": [],
   "source": [
    "def read_transcript(file_path):\n",
    "    with open(file_path, \"r\", encoding=\"utf-8\") as f:\n",
    "        return f.read()"
   ]
  },
  {
   "cell_type": "markdown",
   "id": "7a32b576",
   "metadata": {},
   "source": [
    "#### Create Prompts (both system and users)"
   ]
  },
  {
   "cell_type": "code",
   "execution_count": 5,
   "id": "3236027f",
   "metadata": {},
   "outputs": [],
   "source": [
    "messages = [\n",
    "    {\n",
    "        \"role\": \"system\",\n",
    "        \"content\": \"You are a helpful assistant that summarizes meeting transcripts into concise minutes of meeting (MoM).Respond in Markdown\"\n",
    "    },\n",
    "    {\n",
    "        \"role\": \"user\",\n",
    "        \"content\": \"Please extract and returns the following /\"\n",
    "        \"*** summary of the meeting /\"\n",
    "        \"*** key points discussed /\"\n",
    "        \"*** decisions made /\"\n",
    "        \"*** action items with assignee and deadline/\"\n",
    "        \"** next steps /\"\n",
    "        \"** any items that is not concluded /\"\n",
    "        \"* questions raised /\"\n",
    "        \"follow-up tasks /\"\n",
    "        \"Response in markdown format and data in the tabular form\"\n",
    "        \"\" + read_transcript(\"meeting_transcript.txt\")\n",
    "    }\n",
    "\n",
    "]"
   ]
  },
  {
   "cell_type": "markdown",
   "id": "84a74a4e",
   "metadata": {},
   "source": [
    "#### Now call the ollama with the prompt"
   ]
  },
  {
   "cell_type": "code",
   "execution_count": null,
   "id": "48cb4997",
   "metadata": {},
   "outputs": [
    {
     "ename": "KeyError",
     "evalue": "'choices'",
     "output_type": "error",
     "traceback": [
      "\u001b[31m---------------------------------------------------------------------------\u001b[39m",
      "\u001b[31mKeyError\u001b[39m                                  Traceback (most recent call last)",
      "\u001b[36mCell\u001b[39m\u001b[36m \u001b[39m\u001b[32mIn[6]\u001b[39m\u001b[32m, line 2\u001b[39m\n\u001b[32m      1\u001b[39m ollama_response = ollama.chat(model=\u001b[33m\"\u001b[39m\u001b[33mgemma3\u001b[39m\u001b[33m\"\u001b[39m, messages=messages, stream=\u001b[38;5;28;01mFalse\u001b[39;00m)\n\u001b[32m----> \u001b[39m\u001b[32m2\u001b[39m returned_text = \u001b[43mollama_response\u001b[49m\u001b[43m[\u001b[49m\u001b[33;43m'\u001b[39;49m\u001b[33;43mchoices\u001b[39;49m\u001b[33;43m'\u001b[39;49m\u001b[43m]\u001b[49m[\u001b[32m0\u001b[39m][\u001b[33m'\u001b[39m\u001b[33mmessage\u001b[39m\u001b[33m'\u001b[39m][\u001b[33m'\u001b[39m\u001b[33mcontent\u001b[39m\u001b[33m'\u001b[39m]\n\u001b[32m      3\u001b[39m \u001b[38;5;28mprint\u001b[39m(returned_text)\n",
      "\u001b[36mFile \u001b[39m\u001b[32mc:\\Users\\Shahid\\source\\repos\\book_summary\\.venv\\Lib\\site-packages\\ollama\\_types.py:33\u001b[39m, in \u001b[36mSubscriptableBaseModel.__getitem__\u001b[39m\u001b[34m(self, key)\u001b[39m\n\u001b[32m     30\u001b[39m \u001b[38;5;28;01mif\u001b[39;00m key \u001b[38;5;129;01min\u001b[39;00m \u001b[38;5;28mself\u001b[39m:\n\u001b[32m     31\u001b[39m   \u001b[38;5;28;01mreturn\u001b[39;00m \u001b[38;5;28mgetattr\u001b[39m(\u001b[38;5;28mself\u001b[39m, key)\n\u001b[32m---> \u001b[39m\u001b[32m33\u001b[39m \u001b[38;5;28;01mraise\u001b[39;00m \u001b[38;5;167;01mKeyError\u001b[39;00m(key)\n",
      "\u001b[31mKeyError\u001b[39m: 'choices'"
     ]
    }
   ],
   "source": [
    "ollama_response = ollama.chat(model=\"gemma3\", messages=messages, stream=False)\n",
    "returned_text = ollama_response[\"message\"][\"content\"]\n",
    "print(returned_text)\n"
   ]
  }
 ],
 "metadata": {
  "kernelspec": {
   "display_name": ".venv",
   "language": "python",
   "name": "python3"
  },
  "language_info": {
   "codemirror_mode": {
    "name": "ipython",
    "version": 3
   },
   "file_extension": ".py",
   "mimetype": "text/x-python",
   "name": "python",
   "nbconvert_exporter": "python",
   "pygments_lexer": "ipython3",
   "version": "3.11.9"
  }
 },
 "nbformat": 4,
 "nbformat_minor": 5
}
